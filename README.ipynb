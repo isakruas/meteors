{
 "cells": [
  {
   "cell_type": "markdown",
   "id": "f08c5ad5",
   "metadata": {},
   "source": [
    "# Motivação"
   ]
  },
  {
   "cell_type": "markdown",
   "id": "bd610d71",
   "metadata": {},
   "source": [
    "Desde criança sempre fui fascinado por observar o céu e tentar entender os mistérios que ele esconde. Eu passava horas olhando para as estrelas, tentando imaginar o que poderia haver além do que podia ver. Quando cresci, minha paixão pelo universo só aumentou e eu decidi que queria fazer da astronomia uma parte importante da minha vida."
   ]
  },
  {
   "cell_type": "markdown",
   "id": "6573a852",
   "metadata": {},
   "source": [
    "Dentre as várias coisas que faço em meu tempo livre, uma das mais prazerosas é apontar minha câmera SCB-2000N para uma região do céu e deixá-la gravando por um período prolongado de tempo. Eu faço isso com a esperança de conseguir capturar a passagem de algum bólido. O problema é que, com tantas horas de gravação, é inviável ter que assistir a tudo para verificar se houve a passagem de algum objeto."
   ]
  },
  {
   "cell_type": "markdown",
   "id": "4db6da5a",
   "metadata": {},
   "source": [
    "Foi então que eu tive a ideia de juntar duas das minhas maiores paixões: o desenvolvimento de *software* e a astronomia. Eu resolvi criar uma *[playlist](https://youtube.com/playlist?list=PL_AicbRG9Iu-B9rPbiXn77cs1u9qKErei)* em meu canal no YouTube para compartilhar minhas observações e o progresso de um algoritmo que estou desenvolvendo para facilitar a detecção de passagens de objetos."
   ]
  },
  {
   "cell_type": "markdown",
   "id": "e6a8b9e2",
   "metadata": {},
   "source": [
    "Desde que comecei a gravar os vídeos e a desenvolver o algoritmo, tive que me aperfeiçoar em várias coisas que eu nem imaginaria que seria necessário estudar para criar um simples algoritmo de detecção de passagens de objetos. Aqui neste repositório do GitHub, você pode encontrar o algoritmo que estou desenvolvendo e uma explicação de como utilizá-lo."
   ]
  },
  {
   "cell_type": "markdown",
   "id": "f25ca335",
   "metadata": {},
   "source": [
    "# Metodologia"
   ]
  },
  {
   "cell_type": "markdown",
   "id": "fca20b7e",
   "metadata": {},
   "source": [
    "A metodologia empregada consiste em processar as imagens extraídas de um vídeo previamente gravado. O objetivo é detectar a passagem de objetos através da realização de uma análise frame a frame do vídeo. A partir desta análise, é possível criar um conjunto de dados com o desvio padrão de cada um dos frames. Verifica-se então quais intervalos de dados apresentam anomalias, pois é através delas que se pode identificar a detecção de um objeto. Este método foi aplicado com sucesso e permitiu a detecção de passagens de objetos em diversos vídeos."
   ]
  },
  {
   "cell_type": "markdown",
   "id": "d902429f",
   "metadata": {},
   "source": [
    "# Desenvolvimento"
   ]
  },
  {
   "cell_type": "markdown",
   "id": "951d61fb",
   "metadata": {},
   "source": [
    "### Instalação dos módulos Python necessários"
   ]
  },
  {
   "cell_type": "code",
   "execution_count": 1,
   "id": "04dbe9aa",
   "metadata": {},
   "outputs": [
    {
     "name": "stdout",
     "output_type": "stream",
     "text": [
      "Requirement already satisfied: imageio[ffmpeg] in ./venv/lib/python3.10/site-packages (2.23.0)\n",
      "Requirement already satisfied: pandas in ./venv/lib/python3.10/site-packages (1.5.2)\n",
      "Requirement already satisfied: scikit-image in ./venv/lib/python3.10/site-packages (0.19.3)\n",
      "Requirement already satisfied: matplotlib in ./venv/lib/python3.10/site-packages (3.6.2)\n",
      "Requirement already satisfied: pillow>=8.3.2 in ./venv/lib/python3.10/site-packages (from imageio[ffmpeg]) (9.4.0)\n",
      "Requirement already satisfied: numpy in ./venv/lib/python3.10/site-packages (from imageio[ffmpeg]) (1.24.1)\n",
      "Requirement already satisfied: psutil in ./venv/lib/python3.10/site-packages (from imageio[ffmpeg]) (5.9.4)\n",
      "Requirement already satisfied: imageio-ffmpeg in ./venv/lib/python3.10/site-packages (from imageio[ffmpeg]) (0.4.7)\n",
      "Requirement already satisfied: python-dateutil>=2.8.1 in ./venv/lib/python3.10/site-packages (from pandas) (2.8.2)\n",
      "Requirement already satisfied: pytz>=2020.1 in ./venv/lib/python3.10/site-packages (from pandas) (2022.7)\n",
      "Requirement already satisfied: PyWavelets>=1.1.1 in ./venv/lib/python3.10/site-packages (from scikit-image) (1.4.1)\n",
      "Requirement already satisfied: scipy>=1.4.1 in ./venv/lib/python3.10/site-packages (from scikit-image) (1.10.0)\n",
      "Requirement already satisfied: tifffile>=2019.7.26 in ./venv/lib/python3.10/site-packages (from scikit-image) (2022.10.10)\n",
      "Requirement already satisfied: packaging>=20.0 in ./venv/lib/python3.10/site-packages (from scikit-image) (22.0)\n",
      "Requirement already satisfied: networkx>=2.2 in ./venv/lib/python3.10/site-packages (from scikit-image) (2.8.8)\n",
      "Requirement already satisfied: cycler>=0.10 in ./venv/lib/python3.10/site-packages (from matplotlib) (0.11.0)\n",
      "Requirement already satisfied: contourpy>=1.0.1 in ./venv/lib/python3.10/site-packages (from matplotlib) (1.0.6)\n",
      "Requirement already satisfied: fonttools>=4.22.0 in ./venv/lib/python3.10/site-packages (from matplotlib) (4.38.0)\n",
      "Requirement already satisfied: pyparsing>=2.2.1 in ./venv/lib/python3.10/site-packages (from matplotlib) (3.0.9)\n",
      "Requirement already satisfied: kiwisolver>=1.0.1 in ./venv/lib/python3.10/site-packages (from matplotlib) (1.4.4)\n",
      "Requirement already satisfied: six>=1.5 in ./venv/lib/python3.10/site-packages (from python-dateutil>=2.8.1->pandas) (1.16.0)\n"
     ]
    }
   ],
   "source": [
    "!pip install -U imageio[ffmpeg] pandas scikit-image matplotlib"
   ]
  },
  {
   "cell_type": "markdown",
   "id": "6e308b46",
   "metadata": {},
   "source": [
    "### Pré-processamento de vídeo"
   ]
  },
  {
   "cell_type": "markdown",
   "id": "1aa560b1",
   "metadata": {},
   "source": [
    "Para realizar o pré-processamento do vídeo, vamos aplicar uma série de filtros especiais em cada frame do vídeo. Esses filtros vão destacar as características mais importantes de cada frame, de maneira que fique mais fácil identificar possíveis anomalias. Depois de aplicarmos os filtros em cada frame, vamos calcular o desvio padrão de todos os pixels de cada frame. O desvio padrão é uma medida de dispersão que nos diz quanto os valores de um conjunto de dados estão espalhados. Abaixo está o algoritmo desenvolvido para realizar esta etapa."
   ]
  },
  {
   "cell_type": "markdown",
   "id": "5fc39ab0",
   "metadata": {},
   "source": [
    "```python\n",
    "from concurrent.futures.process import ProcessPoolExecutor as Executor\n",
    "import sys\n",
    "import multiprocessing\n",
    "import pandas as pd\n",
    "import numpy as np\n",
    "# Importa o módulo convolve da biblioteca scipy, responsável por realizar\n",
    "# a convolução de imagens\n",
    "from scipy.signal import convolve\n",
    "# Importa o módulo iio da biblioteca imageio, responsável por realizar a\n",
    "# leitura de imagens e vídeos\n",
    "import imageio.v3 as iio\n",
    "import gc\n",
    "\n",
    "\n",
    "def preprocessing(figure):\n",
    "    # Verifica se a imagem possui 3 canais de cor (RGB)\n",
    "    # Caso contrário, assume que a imagem é em tons de cinza e não precisa ser\n",
    "    # alterada\n",
    "    try:\n",
    "        # Seleciona apenas um canal de cor da imagem, calculando a soma dos\n",
    "        # três canais\n",
    "        figure = figure[:, :, 0] + figure[:, :, 1] + figure[:, :, 2]\n",
    "    except IndexError:\n",
    "        # A imagem é em tons de cinza, então não há necessidade de realizar\n",
    "        # nenhuma alteração\n",
    "        pass\n",
    "\n",
    "    # Calcula o desvio padrão de todos os píxeis da imagem\n",
    "    std = np.std(figure.reshape((figure.shape[0] * figure.shape[1])))\n",
    "\n",
    "    # Cria um filtro de normalização para a imagem\n",
    "    # O filtro é uma matriz 7x7 com todos os elementos iguais a 1,0/std\n",
    "    normalization_filter = np.zeros((7, 7))\n",
    "    normalization_filter[:] = 1.0 / std\n",
    "    # Aplica o filtro de normalização na imagem, utilizando a função convolve\n",
    "    figure = convolve(figure, normalization_filter, mode='valid')\n",
    "\n",
    "    # Cria um filtro de Laplace\n",
    "    # O filtro é uma matriz 3x3 com todos os elementos iguais a -1, exceto o\n",
    "    # elemento central que é 8\n",
    "    laplace_filter = np.ones((3, 3)) * -1\n",
    "    laplace_filter[1, 1] = 8\n",
    "    # Aplica o filtro de Laplace na imagem, utilizando a função convolve\n",
    "    figure = convolve(figure, laplace_filter, mode='valid')\n",
    "\n",
    "    # Remove informações não relevantes da imagem\n",
    "    # Utiliza operações matemáticas para remover os píxeis com valores muito\n",
    "    # próximos de zero\n",
    "    figure = figure - (np.abs(figure) * (-0.99))\n",
    "    figure = figure * -(figure - np.abs(figure))\n",
    "\n",
    "    # Cria um filtro personalizado para destacar as estrelas\n",
    "    # O filtro é uma matriz 7x7, criada manualmente com valores pré-definidos\n",
    "    ruas_filter = np.flip(np.array([\n",
    "        [-99, -90, -93, -118, -92, -90, -99],\n",
    "        [-105, -79, -98, -170, -98, -79, -105],\n",
    "        [-112, -99, -122, -122, -122, -99, -112],\n",
    "        [-118, -170, -122, -255, -122, -170, -118],\n",
    "        [-112, -99, -122, -122, -122, -99, -112],\n",
    "        [-105, -79, -98, -170, -98, -79, -105],\n",
    "        [-99, -90, -93, -118, -92, -90, -99],\n",
    "    ]))\n",
    "    # Aplica o filtro personalizado na imagem, utilizando a função convolve\n",
    "    return convolve(figure, ruas_filter, mode='valid')\n",
    "\n",
    "\n",
    "def processing(frame):\n",
    "    # Calcula o desvio padrão do frame processado\n",
    "    # O método .values retorna os valores do DataFrame como um array numpy\n",
    "    # O método .flatten() transforma o array num vetor unidimensional\n",
    "    # O método .std() calcula o desvio padrão do vetor\n",
    "    std = pd.DataFrame(preprocessing(frame)).values.flatten().std()\n",
    "    return std\n",
    "\n",
    "\n",
    "# Cria um DataFrame vazio para armazenar os valores de desvio padrão\n",
    "df = pd.DataFrame({'std': []})\n",
    "\n",
    "# Cria um Lock\n",
    "lock = multiprocessing.Lock()\n",
    "\n",
    "\n",
    "def callback(future):\n",
    "    global lock\n",
    "    # Trava o Lock\n",
    "    lock.acquire()\n",
    "    global df\n",
    "    # Adiciona o valor de desvio padrão ao DataFrame\n",
    "    df = pd.concat(\n",
    "        [df, pd.DataFrame({'std': [future.result()]})], ignore_index=True)\n",
    "    print(df.shape[0], end='\\r', flush=True)\n",
    "    # Executa a coleta de lixo\n",
    "    gc.collect()\n",
    "    # Destrava o Lock\n",
    "    lock.release()\n",
    "\n",
    "\n",
    "def main(uri):\n",
    "    # Abre o vídeo para leitura\n",
    "    # O parâmetro io_mode='r' indica que o vídeo será apenas lido, sem escrita\n",
    "    video = iio.imopen(uri=uri, io_mode='r')\n",
    "    # Cria um objeto responsável por gerir a execução de tarefas\n",
    "    # em paralelo. O objeto é inicializado com o número máximo de trabalhadores\n",
    "    # igual a 10 vezes o número de núcleos de CPU disponíveis. Isso significa\n",
    "    # que o pré-processamento de imagens será realizado em paralelo por um número\n",
    "    # de processos igual a 10 vezes o número de núcleos de CPU disponíveis.\n",
    "    with Executor(max_workers=multiprocessing.cpu_count()) as executor:\n",
    "        # Itera sobre cada frame do vídeo\n",
    "        for frame in video.iter():\n",
    "            # Envia uma tarefa para ser executada de maneira assíncrona\n",
    "            future = executor.submit(processing, frame)\n",
    "            # Adiciona a função de callback ao objeto Future\n",
    "            future.add_done_callback(callback)\n",
    "\n",
    "\n",
    "if __name__ == \"__main__\":\n",
    "    # Verifica se foi passado um argumento\n",
    "    if len(sys.argv) < 2:\n",
    "        print(\"Error: você deve informar o nome do arquivo de vídeo como argumento.\")\n",
    "        sys.exit(1)\n",
    "\n",
    "    # Obtém o nome do arquivo de vídeo\n",
    "    video_file = sys.argv[1]\n",
    "\n",
    "    # Inicia o processamento de vídeo\n",
    "    main(video_file)\n",
    "\n",
    "    # Salva o DataFrame com os valores de desvio padrão num arquivo .csv.gz\n",
    "    # O parâmetro compression='gzip' indica que o arquivo será compactado\n",
    "    # utilizando o algoritmo gzip\n",
    "    df.to_csv('data.csv.gz', compression='gzip')\n",
    "```"
   ]
  },
  {
   "cell_type": "markdown",
   "id": "a856c722",
   "metadata": {},
   "source": [
    "Para usar esse algoritmo, use o comando ```python main.py video.mp4```, onde ```video.mp4``` é o vídeo que você deseja analisar. Ao final do processo será gerado um arquivo ```data.csv.gz``` com os dados extraídos do vídeo, que poderá ser utilizado na próxima etapa."
   ]
  },
  {
   "cell_type": "markdown",
   "id": "39be72cd",
   "metadata": {},
   "source": [
    "### Análise dos dados"
   ]
  },
  {
   "cell_type": "markdown",
   "id": "c5d02034",
   "metadata": {},
   "source": [
    "Agora que temos o desvio padrão de cada frame, vamos comparar os valores entre si para ver se há algum aumento expressivo em um intervalo curto de tempo. Se houver um aumento expressivo, isso pode ser um indício de que houve a passagem de um objeto. E é assim que iniciamos o processo de detecção de passagens de objetos!"
   ]
  },
  {
   "cell_type": "markdown",
   "id": "0cf38db2",
   "metadata": {},
   "source": [
    "Vamos exibir esse conjunto de dados para termos uma visualização de como ele foi mudando ao longo do tempo."
   ]
  },
  {
   "cell_type": "code",
   "execution_count": 2,
   "id": "13100e61",
   "metadata": {},
   "outputs": [],
   "source": [
    "import matplotlib.pyplot as plt\n",
    "import pandas as pd\n",
    "import numpy as np\n",
    "\n",
    "# Carrega o conjunto de dados para um DataFrame do pandas\n",
    "df = pd.read_csv('data.csv.gz', compression='gzip', usecols=['std'])\n",
    "\n",
    "# Dividimos os valores da coluna 'std' por 3 para normalizá-los, pois eles são \n",
    "# cumulativos dos três canais de cores: vermelho, verde e azul que foram utilizados para calcular o desvio padrão\n",
    "df['std'] /= 3"
   ]
  },
  {
   "cell_type": "code",
   "execution_count": 3,
   "id": "829eb60e",
   "metadata": {},
   "outputs": [
    {
     "data": {
      "image/png": "[encoded data removed]",
      "text/plain": [
       "<Figure size 640x480 with 1 Axes>"
      ]
     },
     "metadata": {},
     "output_type": "display_data"
    }
   ],
   "source": [
    "# Seleciona a coluna 'std' do DataFrame\n",
    "df = df['std']\n",
    "\n",
    "# Cria uma nova figura do Matplotlib\n",
    "plt.figure()\n",
    "\n",
    "# Desenha um gráfico da série Pandas\n",
    "plt.plot(df)\n",
    "\n",
    "# Adiciona uma label no eixo x do gráfico com o texto \"TIME\"\n",
    "plt.xlabel(f'TIME')\n",
    "\n",
    "# Adiciona uma label no eixo y do gráfico com o texto \"STD\"\n",
    "plt.ylabel('STD')\n",
    "\n",
    "# Exibe o gráfico na tela\n",
    "plt.show()"
   ]
  },
  {
   "cell_type": "markdown",
   "id": "4e37afed",
   "metadata": {},
   "source": [
    "Observe que não é eficiente analisar todos os dados de uma só vez. Portanto, vamos dividir esses dados em intervalos de tempo menores. A câmera SCB-2000N grava a uma taxa média de 25 quadros por segundo, então, ao considerarmos 3000 quadros, estaremos analisando intervalos de tempo de aproximadamente 2 minutos."
   ]
  },
  {
   "cell_type": "code",
   "execution_count": 4,
   "id": "b9d88e15",
   "metadata": {},
   "outputs": [
    {
     "data": {
      "image/png": "[encoded data removed]",
      "text/plain": [
       "<Figure size 640x480 with 1 Axes>"
      ]
     },
     "metadata": {},
     "output_type": "display_data"
    }
   ],
   "source": [
    "# Cria uma nova figura do Matplotlib\n",
    "plt.figure()\n",
    "\n",
    "# Desenha um gráfico da série Pandas, considerando os 3000 primeiros quadros\n",
    "plt.plot(df[0:3000])\n",
    "\n",
    "# Adiciona uma label no eixo x do gráfico com o texto \"TIME\"\n",
    "plt.xlabel(f'TIME 0:3000')\n",
    "\n",
    "# Adiciona uma label no eixo y do gráfico com o texto \"STD\"\n",
    "plt.ylabel('STD')\n",
    "\n",
    "# Exibe o gráfico na tela\n",
    "plt.show()"
   ]
  },
  {
   "cell_type": "markdown",
   "id": "1e78f9ac",
   "metadata": {},
   "source": [
    "Observe que, ao observarmos este intervalo de tempo menor, os dados são aproximados, pois em condições normais, durante 2 minutos, não há uma variação significativa de brilho no céu noturno. Dessa forma, podemos definir arbitrariamente um valor de corte para os valores que consideraremos normais. Eu chamo esse valor de `tiny` e ele determina a linha de corte que aplicaremos para desconsiderar ou considerar um intervalo de 2 minutos de vídeo como potencialmente contendo ou não uma passagem de objetos."
   ]
  },
  {
   "cell_type": "markdown",
   "id": "02e6f6fe",
   "metadata": {},
   "source": [
    "Para obtermos o valor de `tiny`, usaremos a seguinte estratégia: definiremos um valor `alpha`, que será multiplicado pelo desvio padrão e, em seguida, somado à média dos dados. Em outras palavras, estaremos obtendo o limite superior de toda a série de dados."
   ]
  },
  {
   "cell_type": "code",
   "execution_count": 5,
   "id": "d94c09e7",
   "metadata": {},
   "outputs": [
    {
     "data": {
      "text/plain": [
       "175.93808862541175"
      ]
     },
     "execution_count": 5,
     "metadata": {},
     "output_type": "execute_result"
    }
   ],
   "source": [
    "# Código para calcular o valor 'tiny'\n",
    "\n",
    "# Define o valor de alpha\n",
    "alpha = 1.0\n",
    "\n",
    "# Calcula o valor 'tiny' como a média dos dados mais o alpha vezes o desvio padrão\n",
    "tiny = np.mean(df) + alpha * np.std(df)\n",
    "\n",
    "tiny"
   ]
  },
  {
   "cell_type": "markdown",
   "id": "4bd35b43",
   "metadata": {},
   "source": [
    "Observe que, pelos valores do desvio padrão apresentados no gráfico acima e pela linha de corte definida pelo valor 'tiny', seguindo a metodologia aqui aplicada, é possível que neste intervalo de tempo não haja passagem de objetos. Vamos cortar o trecho de 0 a 3000 quadros para verificar se de fato não houve passagem de objetos neste intervalo."
   ]
  },
  {
   "cell_type": "code",
   "execution_count": 6,
   "id": "820eaa51",
   "metadata": {},
   "outputs": [
    {
     "name": "stdout",
     "output_type": "stream",
     "text": [
      "/usr/bin/ffmpeg -y -ss 0.00 -i ./video.mp4 -t 120.00 -map 0 -vcodec copy -acodec copy ./subclip_0_3000.mp4\n"
     ]
    }
   ],
   "source": [
    "# Código para cortar um trecho de um vídeo em MP4\n",
    "\n",
    "# Importa o módulo os\n",
    "import os\n",
    "\n",
    "# Define os tempos inicial e final em segundos\n",
    "t1 = 0 / 25\n",
    "t2 = 3000 / 25\n",
    "\n",
    "# Cria a lista de comandos para o ffmpeg\n",
    "cmd = [\n",
    "    \"/usr/bin/ffmpeg\", \"-y\",  # opções do ffmpeg\n",
    "    \"-ss\", \"%0.2f\" % t1,  # tempo inicial\n",
    "    \"-i\", f'./video.mp4',  # arquivo de entrada\n",
    "    \"-t\", \"%0.2f\" % (t2 - t1),  # duração do trecho a ser cortado\n",
    "    \"-map\", \"0\", \"-vcodec\", \"copy\", \"-acodec\", \"copy\",  # opções de codificação\n",
    "    f'./subclip_%s_%s.mp4' % (int(t1 * 25), int(t2 * 25))  # arquivo de saída\n",
    "]\n",
    "\n",
    "# Exibe o comando final\n",
    "print(\" \".join(cmd))\n",
    "\n",
    "# Executa o comando\n",
    "# os.system(\" \".join(cmd))"
   ]
  },
  {
   "cell_type": "markdown",
   "id": "bb8fd5d2",
   "metadata": {},
   "source": [
    "<video src=\"subclip_0_3000.mp4\" width=\"640\" height=\"360\" controls></video>"
   ]
  },
  {
   "cell_type": "markdown",
   "id": "4f327607",
   "metadata": {},
   "source": [
    "Como pode ser observado, de fato, no intervalo apresentado não há passagem de objetos. Portanto, vamos reescrever o algoritmo de forma a que ele analise todos os intervalos do vídeo."
   ]
  },
  {
   "cell_type": "code",
   "execution_count": 7,
   "id": "17d10587",
   "metadata": {},
   "outputs": [],
   "source": [
    "# Importa os módulos os e matplotlib.pyplot\n",
    "import os\n",
    "import matplotlib.pyplot as plt\n",
    "\n",
    "# Importa o módulo numpy\n",
    "import numpy as np\n",
    "\n",
    "# Carrega o conjunto de dados para um DataFrame do pandas\n",
    "df = pd.read_csv('data.csv.gz', compression='gzip', usecols=['std'])\n",
    "\n",
    "# Dividimos os valores da coluna 'std' por 3 para normalizá-los, pois eles são \n",
    "# cumulativos dos três canais de cores: vermelho, verde e azul que foram utilizados para calcular o desvio padrão\n",
    "df['std'] /= 3"
   ]
  },
  {
   "cell_type": "code",
   "execution_count": 8,
   "id": "b7543072",
   "metadata": {},
   "outputs": [
    {
     "data": {
      "text/plain": [
       "std    298.655253\n",
       "dtype: float64"
      ]
     },
     "execution_count": 8,
     "metadata": {},
     "output_type": "execute_result"
    }
   ],
   "source": [
    "# Define o valor de alpha\n",
    "alpha = 3.7\n",
    "\n",
    "# Calcula o valor 'tiny' como a média dos dados mais o alpha vezes o desvio padrão\n",
    "tiny = np.mean(df, axis=0) + alpha * np.std(df)\n",
    "\n",
    "tiny"
   ]
  },
  {
   "cell_type": "code",
   "execution_count": 9,
   "id": "91be27c0",
   "metadata": {},
   "outputs": [
    {
     "name": "stdout",
     "output_type": "stream",
     "text": [
      "/usr/bin/ffmpeg -y -ss 16680.00 -i ./video.mp4 -t 120.00 -map 0 -vcodec copy -acodec copy ./subclip_417000_420000.mp4\n",
      "/usr/bin/ffmpeg -y -ss 21600.00 -i ./video.mp4 -t 120.00 -map 0 -vcodec copy -acodec copy ./subclip_540000_543000.mp4\n",
      "/usr/bin/ffmpeg -y -ss 22800.00 -i ./video.mp4 -t 120.00 -map 0 -vcodec copy -acodec copy ./subclip_570000_573000.mp4\n"
     ]
    }
   ],
   "source": [
    "# Divide os dados em trechos de 3000 quadros\n",
    "for chunk in [(i, i + 3000) for i in range(0, df.shape[0], 3000)]:\n",
    "    # Define os tempos inicial e final em quadros\n",
    "    t1 = chunk[0]\n",
    "    t2 = chunk[1]\n",
    "    \n",
    "    # Seleciona os dados do trecho atual\n",
    "    std = df[t1:t2]\n",
    "\n",
    "    # Verifica se o valor máximo do trecho atual é maior ou igual ao valor 'tiny'\n",
    "    if std.max(axis=0)[0] >= tiny[0]:\n",
    "        # Cria um gráfico do trecho atual\n",
    "        plt.figure()\n",
    "        \n",
    "        # Obtém o objeto de eixos do gráfico\n",
    "        ax = plt.gca()\n",
    "\n",
    "        # Desenha a série de dados no gráfico\n",
    "        plt.plot(std)\n",
    "\n",
    "        # Adiciona uma linha horizontal vermelha na posição y=30\n",
    "        ax.axhline(y=tiny[0], color='r')\n",
    "\n",
    "        # Adiciona labels nos eixos do gráfico\n",
    "        plt.xlabel(f'TIME {t1}:{t2}')\n",
    "        plt.ylabel('STD')\n",
    "\n",
    "        plt.savefig(f'./{t1}_{t2}.png')\n",
    "        # Exibe o gráfico\n",
    "        # plt.show()\n",
    "        plt.close()\n",
    "        \n",
    "        # Define os tempos inicial e final em segundos\n",
    "        t1 = t1 / 25\n",
    "        t2 = t2 / 25\n",
    "        \n",
    "        # Cria a lista de comandos para o ffmpeg\n",
    "        cmd = [\n",
    "            \"/usr/bin/ffmpeg\", \"-y\",  # opções do ffmpeg\n",
    "            \"-ss\", \"%0.2f\" % t1,  # tempo inicial\n",
    "            \"-i\", f'./video.mp4',  # arquivo de entrada\n",
    "            \"-t\", \"%0.2f\" % (t2 - t1),  # duração do trecho a ser cortado\n",
    "            \"-map\", \"0\", \"-vcodec\", \"copy\", \"-acodec\", \"copy\",  # opções de codificação\n",
    "            f'./subclip_%s_%s.mp4' % (int(t1 * 25), int(t2 * 25))  # arquivo de saída\n",
    "        ]\n",
    "        print(\" \".join(cmd))\n",
    "        # Executa o comando\n",
    "        # os.system(\" \".join(cmd))"
   ]
  },
  {
   "cell_type": "markdown",
   "id": "099e2360",
   "metadata": {},
   "source": [
    "Observe que o valor de alpha foi manualmente ajustado para 3.7 com o objetivo de filtrar o conjunto de dados e deixá-lo o suficientemente pequeno para ser analisado. Alpha é utilizado como um limite para descartar os valores que são considerados internos em relação à média e ao desvio padrão dos dados. Temos então os três intervalos de dados, candidatos à passagem de objetos. Vejamos o gráfico de cada um desses intervalos."
   ]
  },
  {
   "cell_type": "markdown",
   "id": "7883ba98",
   "metadata": {},
   "source": [
    "###### Do quadro 417000 ao 420000 "
   ]
  },
  {
   "cell_type": "markdown",
   "id": "73d17d4e",
   "metadata": {},
   "source": [
    "<img src=\"417000_420000.png\" width=\"640\" height=\"360\"></img>"
   ]
  },
  {
   "cell_type": "markdown",
   "id": "8112d51e",
   "metadata": {},
   "source": [
    "Observe que, no intervalo entre 417000 e 417500, notamos um aumento crescente do desvio padrão, seguido de uma queda brusca, que faz com que o valor se aproxime novamente da média. Isso sugere que houve uma perturbação nos dados durante esse período de tempo, possivelmente causada pela passagem de um objeto. No entanto, o tempo de crescimento da curva (um pouco mais de 15 segundos) indica que esse objeto provavelmente não é um meteoro ou bólido, que tendem a ter duração muito menor. As características da curva sugerem que o objeto pode ser um satélite, avião ou outro objeto semelhante, mas também é possível que a perturbação seja causada por anomalias nos sensores da câmera (CMOS). Vamos analisar o vídeo recortado deste intervalo de tempo."
   ]
  },
  {
   "cell_type": "markdown",
   "id": "3180cc42",
   "metadata": {},
   "source": [
    "<video src=\"subclip_417000_420000.mp4\" width=\"640\" height=\"360\" controls></video>"
   ]
  },
  {
   "cell_type": "markdown",
   "id": "30082e05",
   "metadata": {},
   "source": [
    "Ao considerarmos as possibilidades acima, chegamos à conclusão de que a explicação mais provável para a perturbação nos dados é uma anomalia no sensor CMOS da câmera."
   ]
  },
  {
   "cell_type": "markdown",
   "id": "d162d290",
   "metadata": {},
   "source": [
    "###### Do quadro 540000 ao 543000"
   ]
  },
  {
   "cell_type": "markdown",
   "id": "1e5eb11b",
   "metadata": {},
   "source": [
    "<img src=\"540000_543000.png\" width=\"640\" height=\"360\"></img>"
   ]
  },
  {
   "cell_type": "markdown",
   "id": "cdac50a5",
   "metadata": {},
   "source": [
    "Observe que a curva deste intervalo tem uma característica diferente da apresentada no gráfico anterior. Ao compararmos com o gráfico anterior, percebemos que a curva deste intervalo apresenta uma característica diferente, com um pico alto de desvio padrão em um curto período de tempo. Pelo que eu tenho visto em minhas análises anteriores, este é um padrão típico de passagens de meteoros ou bólidos. Vamos analisar o trecho do vídeo correspondente a este intervalo para confirmar se ele efetivamente mostra a passagem de um objeto."
   ]
  },
  {
   "cell_type": "markdown",
   "id": "1643fffe",
   "metadata": {},
   "source": [
    "<video src=\"subclip_540000_543000.mp4\" width=\"640\" height=\"360\" controls></video>"
   ]
  },
  {
   "cell_type": "markdown",
   "id": "b7216966",
   "metadata": {},
   "source": [
    "Como previsto a partir da observação do gráfico, este intervalo de tempo realmente apresenta a passagem de um objeto, provavelmente um meteoro ou bólido."
   ]
  },
  {
   "cell_type": "markdown",
   "id": "5a7ef0f1",
   "metadata": {},
   "source": [
    "###### Do quadro 570000 ao 573000"
   ]
  },
  {
   "cell_type": "markdown",
   "id": "1fbbd493",
   "metadata": {},
   "source": [
    "<img src=\"570000_573000.png\" width=\"640\" height=\"360\" controls></img>"
   ]
  },
  {
   "cell_type": "markdown",
   "id": "712ac4e6",
   "metadata": {},
   "source": [
    "Observe que este gráfico tem uma característica diferente das outras duas apresentadas. Ele apresenta um pico expressivo nos valores do desvio padrão e, após este pico, os valores continuam oscilando fortemente por um período de tempo. Embora este padrão possa lembrar a passagem de um meteoro ou bólido (com um pico alto seguido de uma queda), é mais provável que represente a passagem de um avião ou satélite, a menos que se trate de uma chuva de meteoros. Vamos analisar o vídeo recortado deste intervalo de tempo."
   ]
  },
  {
   "cell_type": "markdown",
   "id": "56f70e0d",
   "metadata": {},
   "source": [
    "<video src=\"subclip_570000_573000.mp4\" width=\"640\" height=\"360\" controls></video>"
   ]
  },
  {
   "cell_type": "markdown",
   "id": "7f63c7a5",
   "metadata": {},
   "source": [
    "Observe que há a passagem de um objeto ao longo do vídeo, e que este objeto, de fato, não possui as características de um bólido"
   ]
  },
  {
   "cell_type": "markdown",
   "id": "b418c75b",
   "metadata": {},
   "source": [
    "# Conclusões"
   ]
  },
  {
   "cell_type": "markdown",
   "id": "96c375ad",
   "metadata": {},
   "source": [
    "Ao dividir o conjunto de dados em intervalos de tempo mais curtos, fica mais fácil analisar o conjunto geral. Além disso, utilizar um \"alpha\" como uma linha de corte para determinar se um intervalo de tempo específico possui ou não a passagem de um objeto é útil para restringir o conjunto de dados que estamos analisando."
   ]
  },
  {
   "cell_type": "markdown",
   "id": "c2beed39",
   "metadata": {},
   "source": [
    "É possível observar que, em alguns intervalos de tempo, houve a passagem de objetos que apresentaram características diferentes. Em alguns casos, os objetos apresentaram uma curva com um pico alto seguido por uma queda brusca, o que pode indicar a passagem de meteoros ou bólidos. Em outros casos, os objetos apresentaram uma curva com um pico alto seguido por uma série de oscilações, o que pode indicar a passagem de aviões ou satélites. Além disso, foi observado que em alguns intervalos de tempo não houve a passagem de objetos, o que pode ser explicado por um comportamento \"normal\" dos dados, ou seja, sem a presença de perturbações."
   ]
  },
  {
   "cell_type": "markdown",
   "id": "8aba97a4",
   "metadata": {},
   "source": [
    "Observa-se também que o algoritmo desenvolvido e a metodologia aplicada podem ser replicados em outros vídeos para auxiliar na detecção de objetos. Em resumo, as análises realizadas permitiram identificar a passagem de diferentes tipos de objetos ao longo do vídeo e o algoritmo desenvolvido pode ser utilizado para realizar essa análise em outros vídeos, o que pode ser útil na detecção de eventos como meteoros ou bólidos. Além disso, é importante levar em consideração que a escolha do valor de \"alpha\" pode afetar os resultados da análise, e portanto deve ser ajustado de acordo com o conjunto de dados em questão."
   ]
  },
  {
   "cell_type": "markdown",
   "id": "db639b67",
   "metadata": {},
   "source": [
    "Em suma, o algoritmo e a metodologia apresentados neste trabalho foram eficientes na detecção de objetos ao longo do vídeo, permitindo identificar diferentes tipos de objetos e compreender suas características. Essa análise pode ser útil em diversas áreas, como na observação do céu noturno para a detecção de meteoros ou bólidos, ou até mesmo na vigilância de objetos no espaço, como satélites ou aviões."
   ]
  }
 ],
 "metadata": {
  "kernelspec": {
   "display_name": "Python 3 (ipykernel)",
   "language": "python",
   "name": "python3"
  },
  "language_info": {
   "codemirror_mode": {
    "name": "ipython",
    "version": 3
   },
   "file_extension": ".py",
   "mimetype": "text/x-python",
   "name": "python",
   "nbconvert_exporter": "python",
   "pygments_lexer": "ipython3",
   "version": "3.10.6"
  }
 },
 "nbformat": 4,
 "nbformat_minor": 5
}
